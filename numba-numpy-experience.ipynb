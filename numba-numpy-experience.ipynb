{
 "cells": [
  {
   "cell_type": "markdown",
   "metadata": {},
   "source": [
    "# Numpy and numba experiment\n",
    "\n",
    "This follows [this linkedin post](https://www.linkedin.com/posts/habib-boukrana-755479175_python-numba-optimisation-activity-7244822650022244352-3_Q0?utm_source=share&utm_medium=member_desktop) and aims to compare numba njit to optimization using numpy."
   ]
  },
  {
   "cell_type": "code",
   "execution_count": 5,
   "metadata": {},
   "outputs": [],
   "source": [
    "import numpy as np\n",
    "from numba import njit\n",
    "import timeit"
   ]
  },
  {
   "cell_type": "code",
   "execution_count": 6,
   "metadata": {},
   "outputs": [],
   "source": [
    "def func_without_numba():\n",
    "    result = []\n",
    "    for a in range(10000):\n",
    "        for b in range(10000):\n",
    "            if (a+b)%11 == 0:\n",
    "                result.append((a,b))\n",
    "    return result\n",
    "\n",
    "@njit\n",
    "def func_with_numba():\n",
    "    result = []\n",
    "    for a in range(10000):\n",
    "        for b in range(10000):\n",
    "            if (a+b)%11 == 0:\n",
    "                result.append((a,b))\n",
    "    return result\n",
    "\n",
    "def func_numpy_v1():\n",
    "    a, b = np.meshgrid(np.arange(10000), np.arange(10000))\n",
    "    mask = (a + b) % 11 == 0\n",
    "    return np.column_stack((a[mask], b[mask]))\n",
    "\n",
    "def func_numpy_v2():\n",
    "    a = np.arange(10000)\n",
    "    b = np.arange(10000)\n",
    "    mask = ((a[:, np.newaxis] + b) % 11) == 0\n",
    "    return np.argwhere(mask)\n",
    "\n",
    "def func_numpy_v3():\n",
    "    n = 10000\n",
    "    a = np.arange(n)[:, np.newaxis]\n",
    "    \n",
    "    # Calculate the smallest 'b' for each 'a' that satisfies (a + b) % 11 == 0\n",
    "    b = 11 - (a % 11)\n",
    "    b %= 11  # Ensure b is always in the range [0, 10]\n",
    "    \n",
    "    # Generate all possible 'b' values by adding multiples of 11\n",
    "    multiples_of_11 = 11 * np.arange(n // 11 + 1)\n",
    "    b = b + multiples_of_11\n",
    "    \n",
    "    # Keep only valid pairs where b < 10000\n",
    "    mask = b < n\n",
    "    return np.column_stack((np.broadcast_to(a, b.shape)[mask], b[mask]))\n",
    "\n",
    "def func_numpy_v4():\n",
    "    n = 10000\n",
    "    a, b = np.ogrid[:n, :n]\n",
    "    mask = (a + b) % 11 == 0\n",
    "    return np.argwhere(mask)"
   ]
  },
  {
   "cell_type": "code",
   "execution_count": 7,
   "metadata": {},
   "outputs": [],
   "source": [
    "# Timing function\n",
    "def time_function(func, name):\n",
    "    start = timeit.default_timer()\n",
    "    result = func()\n",
    "    end = timeit.default_timer()\n",
    "    print(f\"{name:<20} Time: {end-start:.4f} s, Size: {len(result)}\")\n",
    "    return result, end-start"
   ]
  },
  {
   "cell_type": "code",
   "execution_count": 8,
   "metadata": {},
   "outputs": [
    {
     "name": "stdout",
     "output_type": "stream",
     "text": [
      "Running and timing functions...\n",
      "Without Numba        Time: 4.2702 s, Size: 9090910\n",
      "With Numba           Time: 0.9970 s, Size: 9090910\n",
      "NumPy v1             Time: 1.2485 s, Size: 9090910\n",
      "NumPy v2             Time: 0.8243 s, Size: 9090910\n",
      "NumPy v3             Time: 0.0900 s, Size: 9090910\n",
      "NumPy v4             Time: 0.7364 s, Size: 9090910\n"
     ]
    }
   ],
   "source": [
    "# Run and time all functions\n",
    "print(\"Running and timing functions...\")\n",
    "result_orig, time_orig = time_function(func_without_numba, \"Without Numba\")\n",
    "result_numba, time_numba = time_function(func_with_numba, \"With Numba\")\n",
    "result_numpy_v1, time_numpy_v1 = time_function(func_numpy_v1, \"NumPy v1\")\n",
    "result_numpy_v2, time_numpy_v2 = time_function(func_numpy_v2, \"NumPy v2\")\n",
    "result_numpy_v3, time_numpy_v3 = time_function(func_numpy_v3, \"NumPy v3\")\n",
    "result_numpy_v4, time_numpy_v4 = time_function(func_numpy_v4, \"NumPy v4\")"
   ]
  },
  {
   "cell_type": "code",
   "execution_count": 9,
   "metadata": {},
   "outputs": [
    {
     "name": "stdout",
     "output_type": "stream",
     "text": [
      "\n",
      "Verifying results...\n",
      "NumPy v1 results match.\n",
      "NumPy v2 results match.\n",
      "NumPy v3 results match.\n",
      "NumPy v4 results match.\n",
      "Numba results match.\n"
     ]
    }
   ],
   "source": [
    "# Verify results\n",
    "print(\"\\nVerifying results...\")\n",
    "orig_set = set(map(tuple, result_orig))\n",
    "def verify(result, name):\n",
    "    result_set = set(map(tuple, result))\n",
    "    if result_set == orig_set:\n",
    "        print(f\"{name} results match.\")\n",
    "    else:\n",
    "        print(f\"{name} results differ.\")\n",
    "        print(f\"  Missing pairs: {len(orig_set - result_set)}\")\n",
    "        print(f\"  Extra pairs: {len(result_set - orig_set)}\")\n",
    "        if len(orig_set - result_set) > 0:\n",
    "            print(f\"  Sample missing: {list(orig_set - result_set)[:5]}\")\n",
    "        if len(result_set - orig_set) > 0:\n",
    "            print(f\"  Sample extra: {list(result_set - orig_set)[:5]}\")\n",
    "\n",
    "verify(result_numpy_v1, \"NumPy v1\")\n",
    "verify(result_numpy_v2, \"NumPy v2\")\n",
    "verify(result_numpy_v3, \"NumPy v3\")\n",
    "verify(result_numpy_v4, \"NumPy v4\")\n",
    "verify(result_numba, \"Numba\")"
   ]
  },
  {
   "cell_type": "code",
   "execution_count": 10,
   "metadata": {},
   "outputs": [
    {
     "name": "stdout",
     "output_type": "stream",
     "text": [
      "\n",
      "Performance comparison:\n",
      "Method         Time (s)    Speedup   \n",
      "-------------------------------------\n",
      "Without Numba  4.2702            1.00x     \n",
      "With Numba     0.9970            4.28x\n",
      "NumPy v1       1.2485            3.42x\n",
      "NumPy v2       0.8243            5.18x\n",
      "NumPy v3       0.0900            47.44x\n",
      "NumPy v4       0.7364            5.80x\n"
     ]
    }
   ],
   "source": [
    "# Calculate and print speedups\n",
    "print(\"\\nPerformance comparison:\")\n",
    "print(f\"{'Method':<15}{'Time (s)':<12}{'Speedup':<10}\")\n",
    "print(\"-\" * 37)\n",
    "print(f\"{'Without Numba':<15}{time_orig:.4f}{' ':12}{'1.00x':<10}\")\n",
    "print(f\"{'With Numba':<15}{time_numba:.4f}{' ':12}{time_orig/time_numba:.2f}x\")\n",
    "print(f\"{'NumPy v1':<15}{time_numpy_v1:.4f}{' ':12}{time_orig/time_numpy_v1:.2f}x\")\n",
    "print(f\"{'NumPy v2':<15}{time_numpy_v2:.4f}{' ':12}{time_orig/time_numpy_v2:.2f}x\")\n",
    "print(f\"{'NumPy v3':<15}{time_numpy_v3:.4f}{' ':12}{time_orig/time_numpy_v3:.2f}x\")\n",
    "print(f\"{'NumPy v4':<15}{time_numpy_v4:.4f}{' ':12}{time_orig/time_numpy_v4:.2f}x\")"
   ]
  }
 ],
 "metadata": {
  "kernelspec": {
   "display_name": "venv",
   "language": "python",
   "name": "python3"
  },
  "language_info": {
   "codemirror_mode": {
    "name": "ipython",
    "version": 3
   },
   "file_extension": ".py",
   "mimetype": "text/x-python",
   "name": "python",
   "nbconvert_exporter": "python",
   "pygments_lexer": "ipython3",
   "version": "3.12.5"
  }
 },
 "nbformat": 4,
 "nbformat_minor": 2
}
